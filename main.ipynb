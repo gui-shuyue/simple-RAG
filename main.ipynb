{
 "cells": [
  {
   "cell_type": "code",
   "execution_count": 5,
   "id": "75c6a4a1-14b1-4b0d-90fc-a2d4b0c4630b",
   "metadata": {},
   "outputs": [
    {
     "name": "stdout",
     "output_type": "stream",
     "text": [
      "Looking in links: c:\\Users\\shuyu\\AppData\\Local\\Temp\\tmp1qetqr0m\n",
      "Processing c:\\users\\shuyu\\appdata\\local\\temp\\tmp1qetqr0m\\pip-25.2-py3-none-any.whl\n",
      "Installing collected packages: pip\n",
      "Successfully installed pip-25.2\n",
      "Collecting PyPDF2\n",
      "  Using cached pypdf2-3.0.1-py3-none-any.whl.metadata (6.8 kB)\n",
      "Using cached pypdf2-3.0.1-py3-none-any.whl (232 kB)\n",
      "Installing collected packages: PyPDF2\n",
      "Successfully installed PyPDF2-3.0.1\n"
     ]
    }
   ],
   "source": [
    "import sys\n",
    "!{sys.executable} -m ensurepip --upgrade\n",
    "!{sys.executable} -m pip install PyPDF2"
   ]
  },
  {
   "cell_type": "code",
   "execution_count": 6,
   "id": "9c844a77-e057-4842-8036-2b14aefc55cf",
   "metadata": {},
   "outputs": [],
   "source": [
    "from typing import List\n",
    "from sentence_transformers import SentenceTransformer\n",
    "import chromadb\n",
    "from sentence_transformers import CrossEncoder\n",
    "from dotenv import load_dotenv\n",
    "from google import genai\n",
    "import math\n",
    "import PyPDF2\n",
    "\n",
    "load_dotenv()\n",
    "google_client = genai.Client()\n",
    "\n",
    "chromadb_client = chromadb.EphemeralClient()\n",
    "chromadb_collection = chromadb_client.get_or_create_collection(name=\"default\")\n",
    "\n",
    "\n",
    "embedding_model = SentenceTransformer(\"shibing624/text2vec-base-chinese\")\n"
   ]
  },
  {
   "cell_type": "code",
   "execution_count": 21,
   "id": "4f742093-0898-47df-8e6e-1a031fe26c0a",
   "metadata": {},
   "outputs": [],
   "source": [
    "import os"
   ]
  },
  {
   "cell_type": "code",
   "execution_count": 19,
   "id": "b29bc870-3442-4e06-9e11-703d2be88f2f",
   "metadata": {},
   "outputs": [],
   "source": [
    "def split_into_chunks(doc_file: str) -> List[str]:\n",
    "    file_extension = os.path.splitext(doc_file)[1].lower()\n",
    "    if file_extension == '.pdf':\n",
    "        return split_pdf_into_chunks(doc_file)\n",
    "    else:\n",
    "        with open(doc_file, 'r', encoding = 'utf-8') as file:\n",
    "            content = file.read()\n",
    "        return [chunk for chunk in content.split(\"\\n\\n\")]\n"
   ]
  },
  {
   "cell_type": "code",
   "execution_count": 9,
   "id": "2e40a1bb-7c5b-4db5-bbeb-727c7dd569c8",
   "metadata": {},
   "outputs": [],
   "source": [
    "def split_pdf_into_chunks(pdf_file: str) -> List[str]:\n",
    "    \"\"\"专门处理PDF文件的函数\"\"\"\n",
    "    chunks = []\n",
    "    with open(pdf_file, 'rb') as file:  # 注意使用二进制模式\n",
    "        pdf_reader = PyPDF2.PdfReader(file)\n",
    "        for page in pdf_reader.pages:\n",
    "            text = page.extract_text()\n",
    "            # 按两个换行符分割文本\n",
    "            page_chunks = [chunk for chunk in text.split(\"\\n\\n\") if chunk.strip()]\n",
    "            chunks.extend(page_chunks)\n",
    "    return chunks"
   ]
  },
  {
   "cell_type": "code",
   "execution_count": 10,
   "id": "e07a7f65-bc61-4b63-90da-1156cb001c73",
   "metadata": {},
   "outputs": [],
   "source": [
    "def embed_chunk(chunk: str) -> List[float]:\n",
    "    embedding = embedding_model.encode(chunk, normalize_embeddings=True)\n",
    "    return embedding.tolist()"
   ]
  },
  {
   "cell_type": "code",
   "execution_count": 11,
   "id": "a8e97694-fbec-418f-9d98-ee3427e81e42",
   "metadata": {},
   "outputs": [],
   "source": [
    "def save_embeddings(chunks: List[str], embeddings: List[List[float]]) -> None:\n",
    "    for i, (chunk, embedding) in enumerate(zip(chunks, embeddings)):\n",
    "        chromadb_collection.add(\n",
    "            documents=[chunk],\n",
    "            embeddings=[embedding],\n",
    "            ids=[str(i)]\n",
    "        )"
   ]
  },
  {
   "cell_type": "code",
   "execution_count": 12,
   "id": "17390d0d-eecd-4f3a-b3d9-3a6c415bc1be",
   "metadata": {},
   "outputs": [],
   "source": [
    "def retrieve(query: str, top_k: int) -> List[str]:\n",
    "    query_embedding = embed_chunk(query)\n",
    "    results = chromadb_collection.query(\n",
    "        query_embeddings=[query_embedding],\n",
    "        n_results=top_k\n",
    "    )\n",
    "    return results['documents'][0]\n"
   ]
  },
  {
   "cell_type": "code",
   "execution_count": 13,
   "id": "6978523e-f35a-45a5-954b-57dd62f0ae63",
   "metadata": {},
   "outputs": [],
   "source": [
    "def rerank(query: str, retrieved_chunks: List[str], top_k: int) -> List[str]:\n",
    "    cross_encoder = CrossEncoder('cross-encoder/mmarco-mMiniLMv2-L12-H384-v1')\n",
    "    pairs = [(query, chunk) for chunk in retrieved_chunks]\n",
    "    scores = cross_encoder.predict(pairs)\n",
    "\n",
    "    scored_chunks = list(zip(retrieved_chunks, scores))\n",
    "    scored_chunks.sort(key=lambda x: x[1], reverse=True)\n",
    "\n",
    "    return [chunk for chunk, _ in scored_chunks][:top_k]\n"
   ]
  },
  {
   "cell_type": "code",
   "execution_count": 14,
   "id": "28149610-e5f1-4967-afa9-ed1ec4aeaa15",
   "metadata": {},
   "outputs": [],
   "source": [
    "def generate(query: str, chunks: List[str]) -> str:\n",
    "    prompt = f\"\"\"你是一位知识助手，请根据用户的问题和下列片段生成准确的回答。\n",
    "\n",
    "用户问题: {query}\n",
    "\n",
    "相关片段:\n",
    "{\"\\n\\n\".join(chunks)}\n",
    "\n",
    "请基于上述内容作答，不要编造信息。\"\"\"\n",
    "\n",
    "    response = google_client.models.generate_content(\n",
    "        model=\"gemini-2.5-flash\",\n",
    "        contents=prompt\n",
    "    )\n",
    "\n",
    "    return response.text"
   ]
  },
  {
   "cell_type": "code",
   "execution_count": 15,
   "id": "6c5f27df-224c-493b-accf-7278725784a4",
   "metadata": {},
   "outputs": [],
   "source": [
    "def interact_answer():\n",
    "    doc = input(\"Please input doc path.\")\n",
    "    query = input(\"Please input your query.\")\n",
    "   \n",
    "    chunks = split_into_chunks(doc)\n",
    "    embeddings = [embed_chunk(chunk) for chunk in chunks]\n",
    "    save_embeddings(chunks, embeddings)\n",
    "    retrieved_chunks = retrieve(query, math.ceil(len(chunks)*0.5))\n",
    "    reranked_chunks = rerank(query, retrieved_chunks, math.ceil(len(chunks)*0.5))\n",
    "\n",
    "    answer = generate(query, reranked_chunks)\n",
    "    print(answer)\n",
    "    "
   ]
  },
  {
   "cell_type": "code",
   "execution_count": 23,
   "id": "508c508a-7c3f-40d6-9158-4a58ef162358",
   "metadata": {},
   "outputs": [
    {
     "name": "stdin",
     "output_type": "stream",
     "text": [
      "Please input doc path. C:\\Users\\shuyu\\Desktop\\基于多指标优化的 NIPT 最佳时点选择与胎儿异常判定研究.pdf\n",
      "Please input your query. 问题一用了什么方法\n"
     ]
    },
    {
     "name": "stdout",
     "output_type": "stream",
     "text": [
      "根据提供的片段，“问题一”最可能指的是摘要中描述的“方案二”（ֻ၂໙）所采用的方法。该方案主要运用了以下方法：\n",
      "\n",
      "1.  **数据预处理：** 包括多维度数据转换、有效性检验、缺失值插补、标准化、中位数处理和异常值处理等数据处理步骤。\n",
      "2.  **统计建模：**\n",
      "    *   **Logit回归模型：** 用于分析Y染色体片段浓度与相关因素的关系。\n",
      "    *   **B样条函数：** 引入B样条函数来处理孕周和BMI的非线性关系。\n",
      "    *   **广义线性多因素逻辑回归模型：** 用于构建预测模型。\n",
      "3.  **模型评估与诊断：**\n",
      "    *   **F检验：** 用于评估模型的整体显著性。\n",
      "    *   **多重共线性诊断：** 用于检测解释变量之间的多重共线性。\n",
      "    *   **正态性检验：** 用于检验模型残差的正态性。\n"
     ]
    }
   ],
   "source": [
    "if __name__ == '__main__':\n",
    "    interact_answer()"
   ]
  },
  {
   "cell_type": "code",
   "execution_count": null,
   "id": "3cfea654-8cd3-4b01-a7ef-f12826fb6b61",
   "metadata": {},
   "outputs": [],
   "source": []
  }
 ],
 "metadata": {
  "kernelspec": {
   "display_name": "Python 3 (ipykernel)",
   "language": "python",
   "name": "python3"
  },
  "language_info": {
   "codemirror_mode": {
    "name": "ipython",
    "version": 3
   },
   "file_extension": ".py",
   "mimetype": "text/x-python",
   "name": "python",
   "nbconvert_exporter": "python",
   "pygments_lexer": "ipython3",
   "version": "3.13.7"
  }
 },
 "nbformat": 4,
 "nbformat_minor": 5
}
